{
  "nbformat": 4,
  "nbformat_minor": 0,
  "metadata": {
    "colab": {
      "name": "Numpy Library for Data Science.ipynb",
      "provenance": [],
      "authorship_tag": "ABX9TyND8TTdup45BFC8Ar3v0HGt",
      "include_colab_link": true
    },
    "kernelspec": {
      "name": "python3",
      "display_name": "Python 3"
    },
    "language_info": {
      "name": "python"
    }
  },
  "cells": [
    {
      "cell_type": "markdown",
      "metadata": {
        "id": "view-in-github",
        "colab_type": "text"
      },
      "source": [
        "<a href=\"https://colab.research.google.com/github/nachopodesta/numpy-library-for-data-science/blob/main/Numpy_Library_for_Data_Science.ipynb\" target=\"_parent\"><img src=\"https://colab.research.google.com/assets/colab-badge.svg\" alt=\"Open In Colab\"/></a>"
      ]
    },
    {
      "cell_type": "markdown",
      "source": [
        "# Numpy Library for data science (All in one)\n",
        "\n",
        "### https://github.com/nachopodesta/\n"
      ],
      "metadata": {
        "id": "Hmu6nk9UbyTU"
      }
    },
    {
      "cell_type": "code",
      "execution_count": 1,
      "metadata": {
        "id": "Y-1rRmGxbn6q"
      },
      "outputs": [],
      "source": [
        "import numpy as np"
      ]
    },
    {
      "cell_type": "markdown",
      "source": [
        "## Functions"
      ],
      "metadata": {
        "id": "-3dWKMgoYSG5"
      }
    },
    {
      "cell_type": "code",
      "source": [
        "a = np.array([1,2,3,4,5])\n",
        "b = np.array([[1,2],[3,4]])\n",
        "c = np.array([7,8,9,6], \"complex\")"
      ],
      "metadata": {
        "id": "y5PiV-z6b20_"
      },
      "execution_count": 10,
      "outputs": []
    },
    {
      "cell_type": "code",
      "source": [
        "a"
      ],
      "metadata": {
        "id": "gVP4mHhAb23l",
        "colab": {
          "base_uri": "https://localhost:8080/"
        },
        "outputId": "af7efc45-ccd4-4fdf-ddb7-ae24d769b224"
      },
      "execution_count": 3,
      "outputs": [
        {
          "output_type": "execute_result",
          "data": {
            "text/plain": [
              "array([1, 2, 3, 4, 5])"
            ]
          },
          "metadata": {},
          "execution_count": 3
        }
      ]
    },
    {
      "cell_type": "code",
      "source": [
        "b"
      ],
      "metadata": {
        "id": "Sm_ApM_Ub250",
        "colab": {
          "base_uri": "https://localhost:8080/"
        },
        "outputId": "3e334c8b-701b-4453-bb72-8b39ae8cb78b"
      },
      "execution_count": 7,
      "outputs": [
        {
          "output_type": "execute_result",
          "data": {
            "text/plain": [
              "array([[1, 2],\n",
              "       [3, 4]])"
            ]
          },
          "metadata": {},
          "execution_count": 7
        }
      ]
    },
    {
      "cell_type": "code",
      "source": [
        "c"
      ],
      "metadata": {
        "id": "FO_cwnfnb28Z",
        "colab": {
          "base_uri": "https://localhost:8080/"
        },
        "outputId": "1a8d5d02-0fd3-45ce-911a-8cf1767cecb0"
      },
      "execution_count": 11,
      "outputs": [
        {
          "output_type": "execute_result",
          "data": {
            "text/plain": [
              "array([7.+0.j, 8.+0.j, 9.+0.j, 6.+0.j])"
            ]
          },
          "metadata": {},
          "execution_count": 11
        }
      ]
    },
    {
      "cell_type": "code",
      "source": [
        ""
      ],
      "metadata": {
        "id": "MhMvDHl9b2-2"
      },
      "execution_count": null,
      "outputs": []
    },
    {
      "cell_type": "markdown",
      "source": [
        "## Arange()"
      ],
      "metadata": {
        "id": "1MnrZwVKYLiO"
      }
    },
    {
      "cell_type": "code",
      "source": [
        "#np.arange?\n",
        "#arange(star,stop,skip,dtype)\n",
        "\n",
        "a = np.arange(1,7,2)"
      ],
      "metadata": {
        "id": "_1sdBY8eb3Be"
      },
      "execution_count": 17,
      "outputs": []
    },
    {
      "cell_type": "code",
      "source": [
        "a"
      ],
      "metadata": {
        "id": "15Gd5XhWb3EM",
        "colab": {
          "base_uri": "https://localhost:8080/"
        },
        "outputId": "2d970b10-4912-4665-909a-f9e1320c5373"
      },
      "execution_count": 18,
      "outputs": [
        {
          "output_type": "execute_result",
          "data": {
            "text/plain": [
              "array([1, 3, 5])"
            ]
          },
          "metadata": {},
          "execution_count": 18
        }
      ]
    },
    {
      "cell_type": "code",
      "source": [
        "b = np.arange(5.0)"
      ],
      "metadata": {
        "id": "shCAm6S8b3GU"
      },
      "execution_count": 20,
      "outputs": []
    },
    {
      "cell_type": "code",
      "source": [
        "b"
      ],
      "metadata": {
        "colab": {
          "base_uri": "https://localhost:8080/"
        },
        "id": "i0ZTwtVfZNqD",
        "outputId": "afa504b8-fb70-4a0b-fbde-24efe093c8bd"
      },
      "execution_count": 21,
      "outputs": [
        {
          "output_type": "execute_result",
          "data": {
            "text/plain": [
              "array([0., 1., 2., 3., 4.])"
            ]
          },
          "metadata": {},
          "execution_count": 21
        }
      ]
    },
    {
      "cell_type": "code",
      "source": [
        "c = np.arange(2,20,2)"
      ],
      "metadata": {
        "id": "2bB4P6LuZO5Q"
      },
      "execution_count": 22,
      "outputs": []
    },
    {
      "cell_type": "code",
      "source": [
        "c"
      ],
      "metadata": {
        "colab": {
          "base_uri": "https://localhost:8080/"
        },
        "id": "wOjM0j3BZO8S",
        "outputId": "6608efff-a2cb-4bb7-fd0e-89377954468d"
      },
      "execution_count": 23,
      "outputs": [
        {
          "output_type": "execute_result",
          "data": {
            "text/plain": [
              "array([ 2,  4,  6,  8, 10, 12, 14, 16, 18])"
            ]
          },
          "metadata": {},
          "execution_count": 23
        }
      ]
    },
    {
      "cell_type": "code",
      "source": [
        "d = np.arange(10, dtype=\"complex\")"
      ],
      "metadata": {
        "id": "jvIwB9I0ZO-q"
      },
      "execution_count": 25,
      "outputs": []
    },
    {
      "cell_type": "code",
      "source": [
        "d"
      ],
      "metadata": {
        "colab": {
          "base_uri": "https://localhost:8080/"
        },
        "id": "1BDPKhZAZPBM",
        "outputId": "278006f9-5ae8-4272-b4ba-ec70a1b44f3f"
      },
      "execution_count": 26,
      "outputs": [
        {
          "output_type": "execute_result",
          "data": {
            "text/plain": [
              "array([0.+0.j, 1.+0.j, 2.+0.j, 3.+0.j, 4.+0.j, 5.+0.j, 6.+0.j, 7.+0.j,\n",
              "       8.+0.j, 9.+0.j])"
            ]
          },
          "metadata": {},
          "execution_count": 26
        }
      ]
    },
    {
      "cell_type": "markdown",
      "source": [
        "## Ones, zeros and empty function\n"
      ],
      "metadata": {
        "id": "9CtuWJfRaVdv"
      }
    },
    {
      "cell_type": "code",
      "source": [
        "a = np.zeros(6)"
      ],
      "metadata": {
        "id": "jyLP55R6ZPDj"
      },
      "execution_count": 27,
      "outputs": []
    },
    {
      "cell_type": "code",
      "source": [
        "a"
      ],
      "metadata": {
        "colab": {
          "base_uri": "https://localhost:8080/"
        },
        "id": "QifUbma_biOB",
        "outputId": "617c310f-6541-4a6a-b805-56dd863b0fdb"
      },
      "execution_count": 28,
      "outputs": [
        {
          "output_type": "execute_result",
          "data": {
            "text/plain": [
              "array([0., 0., 0., 0., 0., 0.])"
            ]
          },
          "metadata": {},
          "execution_count": 28
        }
      ]
    },
    {
      "cell_type": "code",
      "source": [
        "b = np.zeros(4,dtype=\"int\")"
      ],
      "metadata": {
        "id": "ODFEIOanZPGJ"
      },
      "execution_count": 29,
      "outputs": []
    },
    {
      "cell_type": "code",
      "source": [
        "b"
      ],
      "metadata": {
        "colab": {
          "base_uri": "https://localhost:8080/"
        },
        "id": "vcevMCDIZPIw",
        "outputId": "17fe5d27-a8a0-4cee-9fba-f64a9954ff45"
      },
      "execution_count": 30,
      "outputs": [
        {
          "output_type": "execute_result",
          "data": {
            "text/plain": [
              "array([0, 0, 0, 0])"
            ]
          },
          "metadata": {},
          "execution_count": 30
        }
      ]
    },
    {
      "cell_type": "code",
      "source": [
        "c = np.zeros((2,3))"
      ],
      "metadata": {
        "id": "zGp4SAi3ZPLY"
      },
      "execution_count": 31,
      "outputs": []
    },
    {
      "cell_type": "code",
      "source": [
        "c"
      ],
      "metadata": {
        "colab": {
          "base_uri": "https://localhost:8080/"
        },
        "id": "yHag7GUlZPNi",
        "outputId": "249b001d-d5e2-4f03-fae5-7b3f92c774bb"
      },
      "execution_count": 32,
      "outputs": [
        {
          "output_type": "execute_result",
          "data": {
            "text/plain": [
              "array([[0., 0., 0.],\n",
              "       [0., 0., 0.]])"
            ]
          },
          "metadata": {},
          "execution_count": 32
        }
      ]
    },
    {
      "cell_type": "code",
      "source": [
        "d = np.zeros([2,3])"
      ],
      "metadata": {
        "id": "OXjLWZC7cD7p"
      },
      "execution_count": 33,
      "outputs": []
    },
    {
      "cell_type": "code",
      "source": [
        "d"
      ],
      "metadata": {
        "colab": {
          "base_uri": "https://localhost:8080/"
        },
        "id": "-6i7hKZvcD-E",
        "outputId": "8ec0bf52-560c-4b2a-ac7b-e77c05afc142"
      },
      "execution_count": 34,
      "outputs": [
        {
          "output_type": "execute_result",
          "data": {
            "text/plain": [
              "array([[0., 0., 0.],\n",
              "       [0., 0., 0.]])"
            ]
          },
          "metadata": {},
          "execution_count": 34
        }
      ]
    },
    {
      "cell_type": "code",
      "source": [
        "a = np.ones(5)"
      ],
      "metadata": {
        "id": "Fj7wiuQtcEAa"
      },
      "execution_count": 35,
      "outputs": []
    },
    {
      "cell_type": "code",
      "source": [
        "a"
      ],
      "metadata": {
        "colab": {
          "base_uri": "https://localhost:8080/"
        },
        "id": "4GDR83zscECu",
        "outputId": "f966f16f-c9fc-4b8a-865d-c9905d06be39"
      },
      "execution_count": 36,
      "outputs": [
        {
          "output_type": "execute_result",
          "data": {
            "text/plain": [
              "array([1., 1., 1., 1., 1.])"
            ]
          },
          "metadata": {},
          "execution_count": 36
        }
      ]
    },
    {
      "cell_type": "code",
      "source": [
        "b = np.ones([3,3])"
      ],
      "metadata": {
        "id": "XbQrzEtCcEE3"
      },
      "execution_count": 37,
      "outputs": []
    },
    {
      "cell_type": "code",
      "source": [
        "b"
      ],
      "metadata": {
        "colab": {
          "base_uri": "https://localhost:8080/"
        },
        "id": "rtbk8o4ucEHf",
        "outputId": "97f2208d-ea37-4c3b-fd27-1a2ce2a3878f"
      },
      "execution_count": 38,
      "outputs": [
        {
          "output_type": "execute_result",
          "data": {
            "text/plain": [
              "array([[1., 1., 1.],\n",
              "       [1., 1., 1.],\n",
              "       [1., 1., 1.]])"
            ]
          },
          "metadata": {},
          "execution_count": 38
        }
      ]
    },
    {
      "cell_type": "code",
      "source": [
        "a = np.empty(6, dtype=\"float\")"
      ],
      "metadata": {
        "id": "vEjxI2n0cEJ0"
      },
      "execution_count": 46,
      "outputs": []
    },
    {
      "cell_type": "code",
      "source": [
        "a"
      ],
      "metadata": {
        "colab": {
          "base_uri": "https://localhost:8080/"
        },
        "id": "1pvLn5SldD_f",
        "outputId": "f5ec3b25-2ae3-4b7b-e489-20435b6becf1"
      },
      "execution_count": 47,
      "outputs": [
        {
          "output_type": "execute_result",
          "data": {
            "text/plain": [
              "array([0., 0., 0., 0., 0., 0.])"
            ]
          },
          "metadata": {},
          "execution_count": 47
        }
      ]
    },
    {
      "cell_type": "code",
      "source": [
        "b = np.empty([2,2], dtype=\"int\")"
      ],
      "metadata": {
        "id": "1gel4tPWdEBz"
      },
      "execution_count": 44,
      "outputs": []
    },
    {
      "cell_type": "code",
      "source": [
        "b"
      ],
      "metadata": {
        "colab": {
          "base_uri": "https://localhost:8080/"
        },
        "id": "iD7W8IEddEEU",
        "outputId": "93bb4f55-ece8-4a60-d2db-5f1bc1baca61"
      },
      "execution_count": 45,
      "outputs": [
        {
          "output_type": "execute_result",
          "data": {
            "text/plain": [
              "array([[4607182418800017408, 4611686018427387904],\n",
              "       [4613937818241073152, 4616189618054758400]])"
            ]
          },
          "metadata": {},
          "execution_count": 45
        }
      ]
    },
    {
      "cell_type": "markdown",
      "source": [
        "## Lindspace function"
      ],
      "metadata": {
        "id": "sKOt5Pjzd0bq"
      }
    },
    {
      "cell_type": "code",
      "source": [
        "a = np.linspace(1,40,num=5)"
      ],
      "metadata": {
        "id": "m_Sa1dUGdEGu"
      },
      "execution_count": 52,
      "outputs": []
    },
    {
      "cell_type": "code",
      "source": [
        "a"
      ],
      "metadata": {
        "colab": {
          "base_uri": "https://localhost:8080/"
        },
        "id": "cfDF1N7gdEJG",
        "outputId": "cc0b6217-2972-4618-de29-172e02b3c38a"
      },
      "execution_count": 53,
      "outputs": [
        {
          "output_type": "execute_result",
          "data": {
            "text/plain": [
              "array([ 1.  , 10.75, 20.5 , 30.25, 40.  ])"
            ]
          },
          "metadata": {},
          "execution_count": 53
        }
      ]
    }
  ]
}