{
  "nbformat": 4,
  "nbformat_minor": 0,
  "metadata": {
    "colab": {
      "name": "Numpy Library for Data Science.ipynb",
      "provenance": [],
      "authorship_tag": "ABX9TyPhio1od00IA9Nlbe6vL9Zb",
      "include_colab_link": true
    },
    "kernelspec": {
      "name": "python3",
      "display_name": "Python 3"
    },
    "language_info": {
      "name": "python"
    }
  },
  "cells": [
    {
      "cell_type": "markdown",
      "metadata": {
        "id": "view-in-github",
        "colab_type": "text"
      },
      "source": [
        "<a href=\"https://colab.research.google.com/github/nachopodesta/numpy-library-for-data-science/blob/main/Numpy_Library_for_Data_Science.ipynb\" target=\"_parent\"><img src=\"https://colab.research.google.com/assets/colab-badge.svg\" alt=\"Open In Colab\"/></a>"
      ]
    },
    {
      "cell_type": "markdown",
      "source": [
        "# Numpy Library for data science (All in one)\n",
        "\n",
        "### https://github.com/nachopodesta/\n"
      ],
      "metadata": {
        "id": "Hmu6nk9UbyTU"
      }
    },
    {
      "cell_type": "code",
      "execution_count": 1,
      "metadata": {
        "id": "Y-1rRmGxbn6q"
      },
      "outputs": [],
      "source": [
        "import numpy as np"
      ]
    },
    {
      "cell_type": "markdown",
      "source": [
        "## Functions"
      ],
      "metadata": {
        "id": "-3dWKMgoYSG5"
      }
    },
    {
      "cell_type": "code",
      "source": [
        "a = np.array([1,2,3,4,5])\n",
        "b = np.array([[1,2],[3,4]])\n",
        "c = np.array([7,8,9,6], \"complex\")"
      ],
      "metadata": {
        "id": "y5PiV-z6b20_"
      },
      "execution_count": 77,
      "outputs": []
    },
    {
      "cell_type": "code",
      "source": [
        "a"
      ],
      "metadata": {
        "id": "gVP4mHhAb23l",
        "colab": {
          "base_uri": "https://localhost:8080/"
        },
        "outputId": "e5d9aff1-0be8-471a-c482-bf764195a914"
      },
      "execution_count": 78,
      "outputs": [
        {
          "output_type": "execute_result",
          "data": {
            "text/plain": [
              "array([1, 2, 3, 4, 5])"
            ]
          },
          "metadata": {},
          "execution_count": 78
        }
      ]
    },
    {
      "cell_type": "code",
      "source": [
        "b"
      ],
      "metadata": {
        "id": "Sm_ApM_Ub250",
        "colab": {
          "base_uri": "https://localhost:8080/"
        },
        "outputId": "af957155-e31b-4edf-d1a1-6781b6918a64"
      },
      "execution_count": 79,
      "outputs": [
        {
          "output_type": "execute_result",
          "data": {
            "text/plain": [
              "array([[1, 2],\n",
              "       [3, 4]])"
            ]
          },
          "metadata": {},
          "execution_count": 79
        }
      ]
    },
    {
      "cell_type": "code",
      "source": [
        "c"
      ],
      "metadata": {
        "id": "FO_cwnfnb28Z",
        "colab": {
          "base_uri": "https://localhost:8080/"
        },
        "outputId": "00b1514c-ba59-4b5a-ad82-af33fb8feeba"
      },
      "execution_count": 80,
      "outputs": [
        {
          "output_type": "execute_result",
          "data": {
            "text/plain": [
              "array([7.+0.j, 8.+0.j, 9.+0.j, 6.+0.j])"
            ]
          },
          "metadata": {},
          "execution_count": 80
        }
      ]
    },
    {
      "cell_type": "markdown",
      "source": [
        "## Arange()"
      ],
      "metadata": {
        "id": "1MnrZwVKYLiO"
      }
    },
    {
      "cell_type": "code",
      "source": [
        "#np.arange?\n",
        "#arange(star,stop,skip,dtype)\n",
        "\n",
        "a = np.arange(1,7,2)\n",
        "a"
      ],
      "metadata": {
        "id": "_1sdBY8eb3Be",
        "colab": {
          "base_uri": "https://localhost:8080/"
        },
        "outputId": "abec7c30-fb6e-4cb1-8a8c-13d7d261e14b"
      },
      "execution_count": 81,
      "outputs": [
        {
          "output_type": "execute_result",
          "data": {
            "text/plain": [
              "array([1, 3, 5])"
            ]
          },
          "metadata": {},
          "execution_count": 81
        }
      ]
    },
    {
      "cell_type": "code",
      "source": [
        "b = np.arange(5.0)\n",
        "b"
      ],
      "metadata": {
        "id": "shCAm6S8b3GU",
        "colab": {
          "base_uri": "https://localhost:8080/"
        },
        "outputId": "ef788c16-e5f3-4738-9c6b-a442ecab9478"
      },
      "execution_count": 82,
      "outputs": [
        {
          "output_type": "execute_result",
          "data": {
            "text/plain": [
              "array([0., 1., 2., 3., 4.])"
            ]
          },
          "metadata": {},
          "execution_count": 82
        }
      ]
    },
    {
      "cell_type": "code",
      "source": [
        "c = np.arange(2,20,2)\n",
        "c"
      ],
      "metadata": {
        "colab": {
          "base_uri": "https://localhost:8080/"
        },
        "id": "2bB4P6LuZO5Q",
        "outputId": "0bab601d-4d8e-4f81-84a4-63200b19e839"
      },
      "execution_count": 83,
      "outputs": [
        {
          "output_type": "execute_result",
          "data": {
            "text/plain": [
              "array([ 2,  4,  6,  8, 10, 12, 14, 16, 18])"
            ]
          },
          "metadata": {},
          "execution_count": 83
        }
      ]
    },
    {
      "cell_type": "code",
      "source": [
        "d = np.arange(10, dtype=\"complex\")\n",
        "d"
      ],
      "metadata": {
        "colab": {
          "base_uri": "https://localhost:8080/"
        },
        "id": "jvIwB9I0ZO-q",
        "outputId": "7713713d-0728-4bad-ee4e-f7bfdfc681bb"
      },
      "execution_count": 84,
      "outputs": [
        {
          "output_type": "execute_result",
          "data": {
            "text/plain": [
              "array([0.+0.j, 1.+0.j, 2.+0.j, 3.+0.j, 4.+0.j, 5.+0.j, 6.+0.j, 7.+0.j,\n",
              "       8.+0.j, 9.+0.j])"
            ]
          },
          "metadata": {},
          "execution_count": 84
        }
      ]
    },
    {
      "cell_type": "markdown",
      "source": [
        "## Ones, zeros and empty function\n"
      ],
      "metadata": {
        "id": "9CtuWJfRaVdv"
      }
    },
    {
      "cell_type": "code",
      "source": [
        "a = np.zeros(6)\n",
        "a"
      ],
      "metadata": {
        "colab": {
          "base_uri": "https://localhost:8080/"
        },
        "id": "jyLP55R6ZPDj",
        "outputId": "a3f71bad-e9fe-4523-caed-f59bb6203857"
      },
      "execution_count": 85,
      "outputs": [
        {
          "output_type": "execute_result",
          "data": {
            "text/plain": [
              "array([0., 0., 0., 0., 0., 0.])"
            ]
          },
          "metadata": {},
          "execution_count": 85
        }
      ]
    },
    {
      "cell_type": "code",
      "source": [
        "b = np.zeros(4,dtype=\"int\")\n",
        "b"
      ],
      "metadata": {
        "colab": {
          "base_uri": "https://localhost:8080/"
        },
        "id": "ODFEIOanZPGJ",
        "outputId": "06a21f28-f796-474d-fe27-82ec29caecd3"
      },
      "execution_count": 86,
      "outputs": [
        {
          "output_type": "execute_result",
          "data": {
            "text/plain": [
              "array([0, 0, 0, 0])"
            ]
          },
          "metadata": {},
          "execution_count": 86
        }
      ]
    },
    {
      "cell_type": "code",
      "source": [
        "c = np.zeros((2,3))\n",
        "c"
      ],
      "metadata": {
        "colab": {
          "base_uri": "https://localhost:8080/"
        },
        "id": "zGp4SAi3ZPLY",
        "outputId": "92454eee-7b6a-402b-cf09-f3bd5c3894f7"
      },
      "execution_count": 87,
      "outputs": [
        {
          "output_type": "execute_result",
          "data": {
            "text/plain": [
              "array([[0., 0., 0.],\n",
              "       [0., 0., 0.]])"
            ]
          },
          "metadata": {},
          "execution_count": 87
        }
      ]
    },
    {
      "cell_type": "code",
      "source": [
        "d = np.zeros([2,3])\n",
        "d"
      ],
      "metadata": {
        "colab": {
          "base_uri": "https://localhost:8080/"
        },
        "id": "OXjLWZC7cD7p",
        "outputId": "421998b3-150d-40de-ea59-289dc59bab6e"
      },
      "execution_count": 88,
      "outputs": [
        {
          "output_type": "execute_result",
          "data": {
            "text/plain": [
              "array([[0., 0., 0.],\n",
              "       [0., 0., 0.]])"
            ]
          },
          "metadata": {},
          "execution_count": 88
        }
      ]
    },
    {
      "cell_type": "code",
      "source": [
        "a = np.ones(5)\n",
        "a"
      ],
      "metadata": {
        "colab": {
          "base_uri": "https://localhost:8080/"
        },
        "id": "Fj7wiuQtcEAa",
        "outputId": "3bdfa09c-9bce-43f3-e56f-d398a533244a"
      },
      "execution_count": 89,
      "outputs": [
        {
          "output_type": "execute_result",
          "data": {
            "text/plain": [
              "array([1., 1., 1., 1., 1.])"
            ]
          },
          "metadata": {},
          "execution_count": 89
        }
      ]
    },
    {
      "cell_type": "code",
      "source": [
        "b = np.ones([3,3])\n",
        "b"
      ],
      "metadata": {
        "colab": {
          "base_uri": "https://localhost:8080/"
        },
        "id": "XbQrzEtCcEE3",
        "outputId": "61ea005a-c464-4670-d706-29496991b3ce"
      },
      "execution_count": 90,
      "outputs": [
        {
          "output_type": "execute_result",
          "data": {
            "text/plain": [
              "array([[1., 1., 1.],\n",
              "       [1., 1., 1.],\n",
              "       [1., 1., 1.]])"
            ]
          },
          "metadata": {},
          "execution_count": 90
        }
      ]
    },
    {
      "cell_type": "code",
      "source": [
        "a = np.empty(6, dtype=\"float\")\n",
        "a"
      ],
      "metadata": {
        "colab": {
          "base_uri": "https://localhost:8080/"
        },
        "id": "vEjxI2n0cEJ0",
        "outputId": "754a6b73-abc1-4475-a21e-759f70535f5e"
      },
      "execution_count": 91,
      "outputs": [
        {
          "output_type": "execute_result",
          "data": {
            "text/plain": [
              "array([0., 0., 0., 0., 0., 0.])"
            ]
          },
          "metadata": {},
          "execution_count": 91
        }
      ]
    },
    {
      "cell_type": "code",
      "source": [
        "b = np.empty([2,2], dtype=\"int\")\n",
        "b"
      ],
      "metadata": {
        "colab": {
          "base_uri": "https://localhost:8080/"
        },
        "id": "1gel4tPWdEBz",
        "outputId": "fe978bf3-cc9c-44cf-9a47-6f643db1dc24"
      },
      "execution_count": 92,
      "outputs": [
        {
          "output_type": "execute_result",
          "data": {
            "text/plain": [
              "array([[4607182418800017408, 4611686018427387904],\n",
              "       [4613937818241073152, 4616189618054758400]])"
            ]
          },
          "metadata": {},
          "execution_count": 92
        }
      ]
    },
    {
      "cell_type": "markdown",
      "source": [
        "## Lindspace function"
      ],
      "metadata": {
        "id": "sKOt5Pjzd0bq"
      }
    },
    {
      "cell_type": "code",
      "source": [
        "a = np.linspace(1,40,num=5)\n",
        "a"
      ],
      "metadata": {
        "colab": {
          "base_uri": "https://localhost:8080/"
        },
        "id": "m_Sa1dUGdEGu",
        "outputId": "23d9de82-2222-4881-a386-251cd13d9a32"
      },
      "execution_count": 93,
      "outputs": [
        {
          "output_type": "execute_result",
          "data": {
            "text/plain": [
              "array([ 1.  , 10.75, 20.5 , 30.25, 40.  ])"
            ]
          },
          "metadata": {},
          "execution_count": 93
        }
      ]
    },
    {
      "cell_type": "code",
      "source": [
        "b = np.linspace(1,50,num=5,endpoint=False)\n",
        "b"
      ],
      "metadata": {
        "colab": {
          "base_uri": "https://localhost:8080/"
        },
        "id": "uQSBP5sne5t1",
        "outputId": "61e3fd64-3f87-48c1-b164-2014b16a0ed5"
      },
      "execution_count": 94,
      "outputs": [
        {
          "output_type": "execute_result",
          "data": {
            "text/plain": [
              "array([ 1. , 10.8, 20.6, 30.4, 40.2])"
            ]
          },
          "metadata": {},
          "execution_count": 94
        }
      ]
    },
    {
      "cell_type": "code",
      "source": [
        "c = np.linspace(1,10,num=2,dtype=\"int\")\n",
        "c"
      ],
      "metadata": {
        "colab": {
          "base_uri": "https://localhost:8080/"
        },
        "id": "8Mv0bf2Ge51j",
        "outputId": "5d658f01-85c7-46c1-ef64-fce888056640"
      },
      "execution_count": 95,
      "outputs": [
        {
          "output_type": "execute_result",
          "data": {
            "text/plain": [
              "array([ 1, 10])"
            ]
          },
          "metadata": {},
          "execution_count": 95
        }
      ]
    },
    {
      "cell_type": "code",
      "source": [
        "d = np.linspace(1,50,num=5,retstep=True)\n",
        "d"
      ],
      "metadata": {
        "colab": {
          "base_uri": "https://localhost:8080/"
        },
        "id": "prtSI5nre54C",
        "outputId": "0a9820fd-e1a2-417a-b43b-26be5696caa1"
      },
      "execution_count": 96,
      "outputs": [
        {
          "output_type": "execute_result",
          "data": {
            "text/plain": [
              "(array([ 1.  , 13.25, 25.5 , 37.75, 50.  ]), 12.25)"
            ]
          },
          "metadata": {},
          "execution_count": 96
        }
      ]
    },
    {
      "cell_type": "markdown",
      "source": [
        "## Identity and eye function"
      ],
      "metadata": {
        "id": "SNwFhwypgcs9"
      }
    },
    {
      "cell_type": "code",
      "source": [
        "a = np.eye(3)\n",
        "a"
      ],
      "metadata": {
        "colab": {
          "base_uri": "https://localhost:8080/"
        },
        "id": "G_dWNuKle56m",
        "outputId": "fbae4d52-3f5c-43d7-8fb0-2e552c62ba1c"
      },
      "execution_count": 97,
      "outputs": [
        {
          "output_type": "execute_result",
          "data": {
            "text/plain": [
              "array([[1., 0., 0.],\n",
              "       [0., 1., 0.],\n",
              "       [0., 0., 1.]])"
            ]
          },
          "metadata": {},
          "execution_count": 97
        }
      ]
    },
    {
      "cell_type": "code",
      "source": [
        "b = np.eye(4,5)\n",
        "b"
      ],
      "metadata": {
        "colab": {
          "base_uri": "https://localhost:8080/"
        },
        "id": "LpNNw3p6e59T",
        "outputId": "bc281ad5-8440-4054-b1cf-66b0254f7ac9"
      },
      "execution_count": 98,
      "outputs": [
        {
          "output_type": "execute_result",
          "data": {
            "text/plain": [
              "array([[1., 0., 0., 0., 0.],\n",
              "       [0., 1., 0., 0., 0.],\n",
              "       [0., 0., 1., 0., 0.],\n",
              "       [0., 0., 0., 1., 0.]])"
            ]
          },
          "metadata": {},
          "execution_count": 98
        }
      ]
    },
    {
      "cell_type": "code",
      "source": [
        "c = np.eye(3,k=-1)\n",
        "c"
      ],
      "metadata": {
        "colab": {
          "base_uri": "https://localhost:8080/"
        },
        "id": "GObsPrfqe5__",
        "outputId": "e7ebf5dc-5432-4e4c-9918-a04a7e08c2c7"
      },
      "execution_count": 99,
      "outputs": [
        {
          "output_type": "execute_result",
          "data": {
            "text/plain": [
              "array([[0., 0., 0.],\n",
              "       [1., 0., 0.],\n",
              "       [0., 1., 0.]])"
            ]
          },
          "metadata": {},
          "execution_count": 99
        }
      ]
    },
    {
      "cell_type": "code",
      "source": [
        "d = np.eye(3,k=1)\n",
        "d"
      ],
      "metadata": {
        "colab": {
          "base_uri": "https://localhost:8080/"
        },
        "id": "1hz27_BOe6CO",
        "outputId": "0ddc96f2-4f4d-472f-d637-65af18c6c995"
      },
      "execution_count": 100,
      "outputs": [
        {
          "output_type": "execute_result",
          "data": {
            "text/plain": [
              "array([[0., 1., 0.],\n",
              "       [0., 0., 1.],\n",
              "       [0., 0., 0.]])"
            ]
          },
          "metadata": {},
          "execution_count": 100
        }
      ]
    },
    {
      "cell_type": "code",
      "source": [
        "e = np.eye(4,k=2,dtype=\"int\")\n",
        "e"
      ],
      "metadata": {
        "colab": {
          "base_uri": "https://localhost:8080/"
        },
        "id": "KXd81qkxe6E0",
        "outputId": "e11f7f5d-a395-44bc-f31b-ddca072082f5"
      },
      "execution_count": 101,
      "outputs": [
        {
          "output_type": "execute_result",
          "data": {
            "text/plain": [
              "array([[0, 0, 1, 0],\n",
              "       [0, 0, 0, 1],\n",
              "       [0, 0, 0, 0],\n",
              "       [0, 0, 0, 0]])"
            ]
          },
          "metadata": {},
          "execution_count": 101
        }
      ]
    },
    {
      "cell_type": "code",
      "source": [
        "#identity\n",
        "\n",
        "f = np.identity(3,dtype=\"int\")\n",
        "f"
      ],
      "metadata": {
        "colab": {
          "base_uri": "https://localhost:8080/"
        },
        "id": "SiDD92Oypz4S",
        "outputId": "7890f3cd-fe1f-4e4c-e6e6-362e7dc4dda5"
      },
      "execution_count": 102,
      "outputs": [
        {
          "output_type": "execute_result",
          "data": {
            "text/plain": [
              "array([[1, 0, 0],\n",
              "       [0, 1, 0],\n",
              "       [0, 0, 1]])"
            ]
          },
          "metadata": {},
          "execution_count": 102
        }
      ]
    },
    {
      "cell_type": "markdown",
      "source": [
        "## Atributes of array"
      ],
      "metadata": {
        "id": "T0r7hxiEqzB3"
      }
    },
    {
      "cell_type": "code",
      "source": [
        ""
      ],
      "metadata": {
        "id": "nhrcqOWXpz-A"
      },
      "execution_count": 102,
      "outputs": []
    },
    {
      "cell_type": "code",
      "source": [
        ""
      ],
      "metadata": {
        "id": "bOYZ5EPzp0At"
      },
      "execution_count": 102,
      "outputs": []
    },
    {
      "cell_type": "code",
      "source": [
        ""
      ],
      "metadata": {
        "id": "MjbQmv7kp0Do"
      },
      "execution_count": 102,
      "outputs": []
    },
    {
      "cell_type": "code",
      "source": [
        ""
      ],
      "metadata": {
        "id": "21QKxMXup0GM"
      },
      "execution_count": 102,
      "outputs": []
    },
    {
      "cell_type": "code",
      "source": [
        ""
      ],
      "metadata": {
        "id": "dCylChAwp0KT"
      },
      "execution_count": 102,
      "outputs": []
    },
    {
      "cell_type": "code",
      "source": [
        ""
      ],
      "metadata": {
        "id": "We-gj8l_e6HL"
      },
      "execution_count": 102,
      "outputs": []
    }
  ]
}